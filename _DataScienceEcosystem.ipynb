{
  "metadata": {
    "kernelspec": {
      "name": "python",
      "display_name": "Python (Pyodide)",
      "language": "python"
    },
    "language_info": {
      "codemirror_mode": {
        "name": "python",
        "version": 3
      },
      "file_extension": ".py",
      "mimetype": "text/x-python",
      "name": "python",
      "nbconvert_exporter": "python",
      "pygments_lexer": "ipython3",
      "version": "3.8"
    }
  },
  "nbformat_minor": 4,
  "nbformat": 4,
  "cells": [
    {
      "cell_type": "markdown",
      "source": "# Data Science Tools and Ecosystem",
      "metadata": {}
    },
    {
      "cell_type": "markdown",
      "source": "In this notebook, Data Science Tools and Ecosystem are summarized.",
      "metadata": {}
    },
    {
      "cell_type": "markdown",
      "source": "Some of the popular languages that Data Scientists use are:\n\n1.Python\n2.R\n3.Julia\n4.SQL",
      "metadata": {}
    },
    {
      "cell_type": "markdown",
      "source": "Some of the commonly used libraries used by Data Scientists include:\n\n1.Numpy\n2.Pandas\n3.Caret\n",
      "metadata": {}
    },
    {
      "cell_type": "markdown",
      "source": "Data Science Tools|\n-------------\n|Jupiter Lab|\n|VS Stdio|\n|R Stdio|",
      "metadata": {}
    },
    {
      "cell_type": "markdown",
      "source": "###Below are a few examples of evaluating arithmetic expressions in Python\n\na=20\nb=10\nprint(a+b)\nprint(a-b)\nprint(a*b)\nprint(a/b)\n",
      "metadata": {}
    },
    {
      "cell_type": "markdown",
      "source": "#This a simple arithmetic expression to mutiply then add integers\n",
      "metadata": {}
    },
    {
      "cell_type": "code",
      "source": "a=(3*4)+5\nresult=17",
      "metadata": {
        "trusted": true
      },
      "outputs": [],
      "execution_count": 13
    },
    {
      "cell_type": "markdown",
      "source": "#This will convert 200 minutes to hours by diving by 60",
      "metadata": {}
    },
    {
      "cell_type": "code",
      "source": "convert=200/60\nprint(convert)\n\n",
      "metadata": {
        "trusted": true
      },
      "outputs": [
        {
          "name": "stdout",
          "text": "3.3333333333333335\n",
          "output_type": "stream"
        }
      ],
      "execution_count": 12
    },
    {
      "cell_type": "markdown",
      "source": "#List popular languages for Data Science.\n\n.Python\n.R\n.Java\n.Julia\n.SQL",
      "metadata": {}
    },
    {
      "cell_type": "markdown",
      "source": "## Author\nRahib Ali\n",
      "metadata": {}
    },
    {
      "cell_type": "code",
      "source": "",
      "metadata": {
        "trusted": true
      },
      "outputs": [],
      "execution_count": null
    }
  ]
}